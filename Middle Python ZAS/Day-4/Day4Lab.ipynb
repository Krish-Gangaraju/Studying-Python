{
 "cells": [
  {
   "cell_type": "markdown",
   "metadata": {},
   "source": [
    "### Dictionary"
   ]
  },
  {
   "cell_type": "code",
   "execution_count": 11,
   "metadata": {},
   "outputs": [],
   "source": [
    "age = [1, 5, 7, 8, -1, 6, 99, 87]\n",
    "age1 = list([1,2,4,5,6])"
   ]
  },
  {
   "cell_type": "code",
   "execution_count": 5,
   "metadata": {},
   "outputs": [],
   "source": [
    "target = 99"
   ]
  },
  {
   "cell_type": "code",
   "execution_count": 7,
   "metadata": {},
   "outputs": [
    {
     "name": "stdout",
     "output_type": "stream",
     "text": [
      "target found\n"
     ]
    }
   ],
   "source": [
    "for i in range(len(age)):\n",
    "    if age[i] == target:\n",
    "        print('target found')\n",
    "        break"
   ]
  },
  {
   "cell_type": "code",
   "execution_count": 8,
   "metadata": {},
   "outputs": [],
   "source": [
    "### hashing algorithms"
   ]
  },
  {
   "cell_type": "code",
   "execution_count": 12,
   "metadata": {},
   "outputs": [],
   "source": [
    "keyValuePairs = {'pencil': 10, \n",
    "                 'apple': 15, \n",
    "                 'phone': 9000}\n",
    "kvPairs = dict({'pencil': 10, \n",
    "                 'apple': 15, \n",
    "                 'phone': 9000})"
   ]
  },
  {
   "cell_type": "code",
   "execution_count": 13,
   "metadata": {},
   "outputs": [
    {
     "data": {
      "text/plain": [
       "10"
      ]
     },
     "execution_count": 13,
     "metadata": {},
     "output_type": "execute_result"
    }
   ],
   "source": [
    "keyValuePairs['pencil']"
   ]
  },
  {
   "cell_type": "code",
   "execution_count": 14,
   "metadata": {},
   "outputs": [],
   "source": [
    "keyValuePairs['pencil'] = 20"
   ]
  },
  {
   "cell_type": "code",
   "execution_count": 15,
   "metadata": {},
   "outputs": [
    {
     "data": {
      "text/plain": [
       "20"
      ]
     },
     "execution_count": 15,
     "metadata": {},
     "output_type": "execute_result"
    }
   ],
   "source": [
    "keyValuePairs['pencil']"
   ]
  },
  {
   "cell_type": "code",
   "execution_count": 16,
   "metadata": {},
   "outputs": [],
   "source": [
    "keyValuePairs['ipad'] = 30000"
   ]
  },
  {
   "cell_type": "code",
   "execution_count": 17,
   "metadata": {},
   "outputs": [
    {
     "data": {
      "text/plain": [
       "{'pencil': 20, 'apple': 15, 'phone': 9000, 'ipad': 30000}"
      ]
     },
     "execution_count": 17,
     "metadata": {},
     "output_type": "execute_result"
    }
   ],
   "source": [
    "keyValuePairs"
   ]
  },
  {
   "cell_type": "code",
   "execution_count": 18,
   "metadata": {},
   "outputs": [],
   "source": [
    "keyValuePairs['watch'] = 'Rado'"
   ]
  },
  {
   "cell_type": "code",
   "execution_count": 63,
   "metadata": {},
   "outputs": [],
   "source": [
    "keyValuePairs['colors'] = ['red', 'green']"
   ]
  },
  {
   "cell_type": "code",
   "execution_count": 64,
   "metadata": {},
   "outputs": [
    {
     "data": {
      "text/plain": [
       "{'pencil': 20,\n",
       " 'apple': 15,\n",
       " 'phone': 9000,\n",
       " 'ipad': 30000,\n",
       " 'watch': 'Rado',\n",
       " 'colors': ['red', 'green']}"
      ]
     },
     "execution_count": 64,
     "metadata": {},
     "output_type": "execute_result"
    }
   ],
   "source": [
    "keyValuePairs"
   ]
  },
  {
   "cell_type": "code",
   "execution_count": 20,
   "metadata": {},
   "outputs": [],
   "source": [
    " arr1 = [10,20, 10, 15, 10, 35, 60, 70, 60]"
   ]
  },
  {
   "cell_type": "code",
   "execution_count": null,
   "metadata": {},
   "outputs": [],
   "source": [
    "## group the element of array by its frequency"
   ]
  },
  {
   "cell_type": "markdown",
   "metadata": {},
   "source": [
    "### Bitwise Operators"
   ]
  },
  {
   "cell_type": "code",
   "execution_count": 21,
   "metadata": {},
   "outputs": [],
   "source": [
    "## OR gate/operation\n",
    "a=2 #0010\n",
    "b=3 #0011\n",
    "\n"
   ]
  },
  {
   "cell_type": "code",
   "execution_count": 22,
   "metadata": {},
   "outputs": [
    {
     "data": {
      "text/plain": [
       "3"
      ]
     },
     "execution_count": 22,
     "metadata": {},
     "output_type": "execute_result"
    }
   ],
   "source": [
    "# OR gate\n",
    "# a OR b\n",
    "\n",
    "# a=2 --> 0010\n",
    "# b=3 --> 0011\n",
    "# a OR b->0011 --> 3\n",
    "\n",
    "a|b "
   ]
  },
  {
   "cell_type": "code",
   "execution_count": 23,
   "metadata": {},
   "outputs": [
    {
     "data": {
      "text/plain": [
       "2"
      ]
     },
     "execution_count": 23,
     "metadata": {},
     "output_type": "execute_result"
    }
   ],
   "source": [
    "# AND gate\n",
    "# a and b\n",
    "\n",
    "# a=2 --> 0010\n",
    "# b=3 --> 0011\n",
    "# a OR b->0010 --> 2\n",
    "\n",
    "a&b "
   ]
  },
  {
   "cell_type": "code",
   "execution_count": 24,
   "metadata": {},
   "outputs": [
    {
     "data": {
      "text/plain": [
       "1"
      ]
     },
     "execution_count": 24,
     "metadata": {},
     "output_type": "execute_result"
    }
   ],
   "source": [
    "# XOR gate\n",
    "# a xor b\n",
    "\n",
    "# a=2 --> 0010\n",
    "# b=3 --> 0011\n",
    "# a OR b->0001 --> 1\n",
    "\n",
    "a^b "
   ]
  },
  {
   "cell_type": "markdown",
   "metadata": {},
   "source": [
    "### Functions"
   ]
  },
  {
   "cell_type": "code",
   "execution_count": 29,
   "metadata": {},
   "outputs": [],
   "source": [
    "def maxElement(myArray):\n",
    "    maxValue = -1000\n",
    "    for i in range(len(myArray)):\n",
    "        if myArray[i] > maxValue:\n",
    "            maxValue=myArray[i]\n",
    "    return maxValue"
   ]
  },
  {
   "cell_type": "code",
   "execution_count": 30,
   "metadata": {},
   "outputs": [],
   "source": [
    "def greetings(name, age):\n",
    "    print('Hello ', name, ' age:', age)"
   ]
  },
  {
   "cell_type": "code",
   "execution_count": 26,
   "metadata": {},
   "outputs": [
    {
     "data": {
      "text/plain": [
       "99"
      ]
     },
     "execution_count": 26,
     "metadata": {},
     "output_type": "execute_result"
    }
   ],
   "source": [
    "age = [1, 5, 7, 8, -1, 6, 99, 87]\n",
    "maxElement(age)"
   ]
  },
  {
   "cell_type": "code",
   "execution_count": 27,
   "metadata": {},
   "outputs": [],
   "source": [
    "age = [-1, -5, -7, -8, -1, -6, -99, -87]"
   ]
  },
  {
   "cell_type": "code",
   "execution_count": 28,
   "metadata": {},
   "outputs": [
    {
     "data": {
      "text/plain": [
       "-1"
      ]
     },
     "execution_count": 28,
     "metadata": {},
     "output_type": "execute_result"
    }
   ],
   "source": [
    "maxElement(age)"
   ]
  },
  {
   "cell_type": "code",
   "execution_count": 31,
   "metadata": {},
   "outputs": [
    {
     "name": "stdout",
     "output_type": "stream",
     "text": [
      "Hello  smith  age: 10\n"
     ]
    }
   ],
   "source": [
    "greetings('smith', 10)"
   ]
  },
  {
   "cell_type": "code",
   "execution_count": 36,
   "metadata": {},
   "outputs": [
    {
     "name": "stdout",
     "output_type": "stream",
     "text": [
      "Hello  smith  age: 10\n",
      "x1 =  None\n",
      "x2 =  99\n"
     ]
    }
   ],
   "source": [
    "x1 = greetings('smith', 10)\n",
    "print('x1 = ', x1)\n",
    "\n",
    "x2 = maxElement(age)\n",
    "print('x2 = ', x2)"
   ]
  },
  {
   "cell_type": "code",
   "execution_count": 32,
   "metadata": {},
   "outputs": [
    {
     "name": "stdout",
     "output_type": "stream",
     "text": [
      "[-1, 1, 5, 6, 7, 8, 87, 99]\n"
     ]
    }
   ],
   "source": [
    "age = [1, 5, 7, 8, -1, 6, 99, 87]\n",
    "age.sort()\n",
    "print(age)"
   ]
  },
  {
   "cell_type": "markdown",
   "metadata": {},
   "source": [
    "### Prime Numbers"
   ]
  },
  {
   "cell_type": "code",
   "execution_count": 37,
   "metadata": {},
   "outputs": [],
   "source": [
    "# 2,3,5,7,11,13,17,19\n",
    "# private and public keys"
   ]
  },
  {
   "cell_type": "code",
   "execution_count": 52,
   "metadata": {},
   "outputs": [
    {
     "name": "stdout",
     "output_type": "stream",
     "text": [
      "18 is not a prime number\n"
     ]
    }
   ],
   "source": [
    "n=18\n",
    "#2,3,4,5,6,7,8,.......22\n",
    "isPrime = True\n",
    "for i in range(2,n):\n",
    "    if (n % i == 0):\n",
    "        isPrime = False\n",
    "\n",
    "if(isPrime):\n",
    "        print(n, ' is a prime number')\n",
    "else:\n",
    "        print(n, 'is not a prime number')"
   ]
  },
  {
   "cell_type": "code",
   "execution_count": 50,
   "metadata": {},
   "outputs": [],
   "source": [
    "# n = 18 ; 2,3,4,5,6,7,8,9,10,12 (6*2)\n",
    "def checkPrime(n):\n",
    "    isPrime=True\n",
    "    for i in range(2, int(n/2)+1):\n",
    "        if n%i==0:\n",
    "            isPrime=False\n",
    "    if(isPrime):\n",
    "        print(n, ' is a prime number')\n",
    "    else:\n",
    "        print(n, 'is not a prime number')"
   ]
  },
  {
   "cell_type": "code",
   "execution_count": 46,
   "metadata": {},
   "outputs": [
    {
     "name": "stdout",
     "output_type": "stream",
     "text": [
      "8 is not a prime number\n"
     ]
    }
   ],
   "source": [
    "checkPrime(8)"
   ]
  },
  {
   "cell_type": "markdown",
   "metadata": {},
   "source": [
    "### Fibonacci Series"
   ]
  },
  {
   "cell_type": "code",
   "execution_count": 53,
   "metadata": {},
   "outputs": [],
   "source": [
    "#0, 1, 1, 2, 3, 5, 8, 13, 21, 34, ....\n",
    "def printFib(n):\n",
    "    a=0\n",
    "    b=1\n",
    "    if n==1: # print the 1st fib --> 0 and exit from the function\n",
    "        print(a)\n",
    "        return\n",
    "    if n==2: # print the 1st & 2nd fib --> 0 and 1, exit from the function\n",
    "        print(a)\n",
    "        print(b)\n",
    "        return\n",
    "    print(a) # print the 1st fib --> 0\n",
    "    print(b) # print the 2nd fib --> 1\n",
    "    for i in range(2, n): # then print the rest of the fib numbers from 2 onwards\n",
    "        # a =8\n",
    "        # b = 13\n",
    "        # c = a+b = 21\n",
    "        # a =b = 13\n",
    "        # b = c = 21\n",
    "        c=a+b \n",
    "        a=b\n",
    "        b=c\n",
    "        print(c)"
   ]
  },
  {
   "cell_type": "code",
   "execution_count": 54,
   "metadata": {},
   "outputs": [
    {
     "name": "stdout",
     "output_type": "stream",
     "text": [
      "0\n",
      "1\n",
      "1\n",
      "2\n",
      "3\n",
      "5\n",
      "8\n"
     ]
    }
   ],
   "source": [
    "printFib(7)"
   ]
  },
  {
   "cell_type": "markdown",
   "metadata": {},
   "source": [
    "### Finding a duplicate element in an array\n"
   ]
  },
  {
   "cell_type": "code",
   "execution_count": 55,
   "metadata": {},
   "outputs": [],
   "source": [
    "age = [10, -12, 15, 16, 89, 12, 199, 100, 12]"
   ]
  },
  {
   "cell_type": "code",
   "execution_count": 58,
   "metadata": {},
   "outputs": [
    {
     "name": "stdout",
     "output_type": "stream",
     "text": [
      "duplicate found\n",
      "duplicate found\n",
      "duplicate found\n",
      "duplicate found\n",
      "duplicate found\n",
      "duplicate found\n"
     ]
    }
   ],
   "source": [
    "for i in range(len(age)):\n",
    "    for j in range(2, len(age)):\n",
    "        if (age[i] == age[j]):\n",
    "            print('duplicate found')\n",
    "            break\n",
    "    "
   ]
  },
  {
   "cell_type": "markdown",
   "metadata": {},
   "source": [
    "### Anagram"
   ]
  },
  {
   "cell_type": "code",
   "execution_count": 59,
   "metadata": {},
   "outputs": [],
   "source": [
    "s1 = 'listen'\n",
    "s2 = 'silent'"
   ]
  },
  {
   "cell_type": "code",
   "execution_count": 60,
   "metadata": {},
   "outputs": [
    {
     "name": "stdout",
     "output_type": "stream",
     "text": [
      "['e', 'i', 'l', 'n', 's', 't']\n",
      "['e', 'i', 'l', 'n', 's', 't']\n",
      "the strings are anaggams\n"
     ]
    }
   ],
   "source": [
    "x1 = sorted(s1)\n",
    "x2 = sorted(s2)\n",
    "print(x1)\n",
    "print(x2)\n",
    "if x1==x2:\n",
    "    print('the strings are anagrams')\n",
    "else:\n",
    "    print ('not')"
   ]
  },
  {
   "cell_type": "code",
   "execution_count": 62,
   "metadata": {},
   "outputs": [
    {
     "name": "stdout",
     "output_type": "stream",
     "text": [
      "[-12, 10, 12, 15, 16, 89, 100, 199]\n"
     ]
    }
   ],
   "source": [
    "age.sort()\n",
    "print(age)"
   ]
  },
  {
   "cell_type": "code",
   "execution_count": null,
   "metadata": {},
   "outputs": [],
   "source": []
  }
 ],
 "metadata": {
  "kernelspec": {
   "display_name": "Python 3",
   "language": "python",
   "name": "python3"
  },
  "language_info": {
   "codemirror_mode": {
    "name": "ipython",
    "version": 3
   },
   "file_extension": ".py",
   "mimetype": "text/x-python",
   "name": "python",
   "nbconvert_exporter": "python",
   "pygments_lexer": "ipython3",
   "version": "3.6.8"
  }
 },
 "nbformat": 4,
 "nbformat_minor": 4
}
