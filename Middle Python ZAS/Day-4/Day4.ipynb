{
 "cells": [
  {
   "cell_type": "markdown",
   "metadata": {},
   "source": [
    "### Dictionary"
   ]
  },
  {
   "cell_type": "code",
   "execution_count": 1,
   "metadata": {},
   "outputs": [],
   "source": [
    "keyValuePair={'pencil':10, 'phone':9000, 'notebook':150}"
   ]
  },
  {
   "cell_type": "code",
   "execution_count": 2,
   "metadata": {},
   "outputs": [
    {
     "data": {
      "text/plain": [
       "10"
      ]
     },
     "execution_count": 2,
     "metadata": {},
     "output_type": "execute_result"
    }
   ],
   "source": [
    "keyValuePair['pencil']"
   ]
  },
  {
   "cell_type": "code",
   "execution_count": 3,
   "metadata": {},
   "outputs": [],
   "source": [
    "keyValuePair['pencil']=15"
   ]
  },
  {
   "cell_type": "code",
   "execution_count": 4,
   "metadata": {},
   "outputs": [
    {
     "data": {
      "text/plain": [
       "15"
      ]
     },
     "execution_count": 4,
     "metadata": {},
     "output_type": "execute_result"
    }
   ],
   "source": [
    "keyValuePair['pencil']"
   ]
  },
  {
   "cell_type": "code",
   "execution_count": 5,
   "metadata": {},
   "outputs": [],
   "source": [
    "keyValuePair['pen']=200"
   ]
  },
  {
   "cell_type": "code",
   "execution_count": 6,
   "metadata": {},
   "outputs": [
    {
     "data": {
      "text/plain": [
       "{'pencil': 15, 'phone': 9000, 'notebook': 150, 'pen': 200}"
      ]
     },
     "execution_count": 6,
     "metadata": {},
     "output_type": "execute_result"
    }
   ],
   "source": [
    "keyValuePair"
   ]
  },
  {
   "cell_type": "markdown",
   "metadata": {},
   "source": [
    "### Bitwise Operators"
   ]
  },
  {
   "cell_type": "code",
   "execution_count": 7,
   "metadata": {},
   "outputs": [],
   "source": [
    "a=2 # 0010\n",
    "b=3 # 0011"
   ]
  },
  {
   "cell_type": "markdown",
   "metadata": {},
   "source": [
    "#### OR Gate\n"
   ]
  },
  {
   "cell_type": "code",
   "execution_count": 8,
   "metadata": {},
   "outputs": [
    {
     "data": {
      "text/plain": [
       "3"
      ]
     },
     "execution_count": 8,
     "metadata": {},
     "output_type": "execute_result"
    }
   ],
   "source": [
    "a|b # 0010 + 0011 = 0011"
   ]
  },
  {
   "cell_type": "markdown",
   "metadata": {},
   "source": [
    "#### AND Gate"
   ]
  },
  {
   "cell_type": "code",
   "execution_count": 9,
   "metadata": {},
   "outputs": [
    {
     "data": {
      "text/plain": [
       "2"
      ]
     },
     "execution_count": 9,
     "metadata": {},
     "output_type": "execute_result"
    }
   ],
   "source": [
    "a&b # 0010 + 0011 = 0010"
   ]
  },
  {
   "cell_type": "markdown",
   "metadata": {},
   "source": [
    "##### XOR Gate"
   ]
  },
  {
   "cell_type": "code",
   "execution_count": 10,
   "metadata": {},
   "outputs": [
    {
     "data": {
      "text/plain": [
       "1"
      ]
     },
     "execution_count": 10,
     "metadata": {},
     "output_type": "execute_result"
    }
   ],
   "source": [
    "a^b # 0010 ^ 0011 = 0001"
   ]
  },
  {
   "cell_type": "markdown",
   "metadata": {},
   "source": [
    "### Anagram"
   ]
  },
  {
   "cell_type": "code",
   "execution_count": 11,
   "metadata": {},
   "outputs": [],
   "source": [
    "def check(s1, s2):\n",
    "    if (sorted(s1) == sorted(s2)):\n",
    "        print(\"The string are anagrams\")\n",
    "    else:\n",
    "        print(\"the strings aren't anagrams\")"
   ]
  },
  {
   "cell_type": "code",
   "execution_count": 12,
   "metadata": {},
   "outputs": [
    {
     "name": "stdout",
     "output_type": "stream",
     "text": [
      "The string are anargams\n"
     ]
    }
   ],
   "source": [
    "s1='listen'\n",
    "s2='silent'\n",
    "check(s1,s2)"
   ]
  },
  {
   "cell_type": "code",
   "execution_count": 13,
   "metadata": {},
   "outputs": [
    {
     "name": "stdout",
     "output_type": "stream",
     "text": [
      "The string are anargams\n"
     ]
    }
   ],
   "source": [
    "s1='dad'\n",
    "s2='add'\n",
    "check(s1, s2)"
   ]
  },
  {
   "cell_type": "code",
   "execution_count": 14,
   "metadata": {},
   "outputs": [
    {
     "name": "stdout",
     "output_type": "stream",
     "text": [
      "the strings aren't anargams\n"
     ]
    }
   ],
   "source": [
    "s1='help'\n",
    "s2='hell'\n",
    "check(s1,s2)"
   ]
  },
  {
   "cell_type": "markdown",
   "metadata": {},
   "source": [
    "### Functions"
   ]
  },
  {
   "cell_type": "code",
   "execution_count": 15,
   "metadata": {},
   "outputs": [],
   "source": [
    "def greetings(name):\n",
    "    print('hello ', name)"
   ]
  },
  {
   "cell_type": "code",
   "execution_count": 16,
   "metadata": {},
   "outputs": [
    {
     "name": "stdout",
     "output_type": "stream",
     "text": [
      "hello  fakruddin\n"
     ]
    }
   ],
   "source": [
    "greetings('fakruddin')"
   ]
  },
  {
   "cell_type": "code",
   "execution_count": 17,
   "metadata": {},
   "outputs": [],
   "source": [
    "import math\n",
    "def findRoot(n):\n",
    "    return math.sqrt(n)"
   ]
  },
  {
   "cell_type": "code",
   "execution_count": 19,
   "metadata": {},
   "outputs": [
    {
     "name": "stdout",
     "output_type": "stream",
     "text": [
      "4.0\n"
     ]
    }
   ],
   "source": [
    "x = findRoot(16)\n",
    "print(x)"
   ]
  },
  {
   "cell_type": "markdown",
   "metadata": {},
   "source": [
    "### Check Prime Number"
   ]
  },
  {
   "cell_type": "code",
   "execution_count": 29,
   "metadata": {},
   "outputs": [],
   "source": [
    "n=19\n",
    "def checkPrime(n):\n",
    "    isPrime=True\n",
    "    for i in range(2, int(n/2)+1):\n",
    "        if n%i==0:\n",
    "            isPrime=False\n",
    "    if(isPrime):\n",
    "        print(n, ' is a prime number')\n",
    "    else:\n",
    "        print(n, 'is not a prime number')"
   ]
  },
  {
   "cell_type": "code",
   "execution_count": 30,
   "metadata": {},
   "outputs": [
    {
     "name": "stdout",
     "output_type": "stream",
     "text": [
      "19  is a prime number\n"
     ]
    }
   ],
   "source": [
    "checkPrime(19)"
   ]
  },
  {
   "cell_type": "code",
   "execution_count": 31,
   "metadata": {},
   "outputs": [
    {
     "name": "stdout",
     "output_type": "stream",
     "text": [
      "10 is not a prime number\n"
     ]
    }
   ],
   "source": [
    "checkPrime(10)"
   ]
  },
  {
   "cell_type": "markdown",
   "metadata": {},
   "source": [
    "### Fibonacci series\n",
    "##### 0,1,1,2,3,5,8,13,21,34,..."
   ]
  },
  {
   "cell_type": "code",
   "execution_count": 34,
   "metadata": {},
   "outputs": [],
   "source": [
    "def printFib(n):\n",
    "    a=0\n",
    "    b=1\n",
    "    if n==1:\n",
    "        print(a)\n",
    "        return\n",
    "    if n==2:\n",
    "        print(a)\n",
    "        print(b)\n",
    "        return\n",
    "    print(a)\n",
    "    print(b)\n",
    "    for i in range(2, n):\n",
    "        c=a+b\n",
    "        a=b\n",
    "        b=c\n",
    "        print(c)"
   ]
  },
  {
   "cell_type": "code",
   "execution_count": 35,
   "metadata": {},
   "outputs": [
    {
     "name": "stdout",
     "output_type": "stream",
     "text": [
      "0\n",
      "1\n",
      "1\n",
      "2\n",
      "3\n"
     ]
    }
   ],
   "source": [
    "printFib(5)"
   ]
  },
  {
   "cell_type": "code",
   "execution_count": 36,
   "metadata": {},
   "outputs": [
    {
     "name": "stdout",
     "output_type": "stream",
     "text": [
      "0\n",
      "1\n",
      "1\n",
      "2\n",
      "3\n",
      "5\n",
      "8\n",
      "13\n",
      "21\n",
      "34\n"
     ]
    }
   ],
   "source": [
    "printFib(10)"
   ]
  },
  {
   "cell_type": "markdown",
   "metadata": {},
   "source": [
    "### IGCSE - Pseudo Code for Temp program"
   ]
  },
  {
   "cell_type": "markdown",
   "metadata": {},
   "source": [
    "##### TASK 1"
   ]
  },
  {
   "cell_type": "code",
   "execution_count": 67,
   "metadata": {},
   "outputs": [],
   "source": [
    "dayTemp=[]\n",
    "nightTemp=[]\n",
    "maxTempLimit = 50\n",
    "minTempLimit = -50"
   ]
  },
  {
   "cell_type": "code",
   "execution_count": 68,
   "metadata": {},
   "outputs": [],
   "source": [
    "days=3"
   ]
  },
  {
   "cell_type": "code",
   "execution_count": 69,
   "metadata": {},
   "outputs": [
    {
     "name": "stdout",
     "output_type": "stream",
     "text": [
      "-----------Input DAY Temp.--------\n",
      "Please enter a valid Mid Day temp:25\n",
      "Please enter a valid Mid Day temp:15\n",
      "Please enter a valid Mid Day temp:600\n",
      "Please enter a valid temp within range of  -50  and  50\n",
      "try again ....\n",
      "Please enter a valid Mid Day temp:50\n",
      " The day temperatures are:  [25.0, 15.0, 50.0]\n"
     ]
    }
   ],
   "source": [
    "print('-----------Input DAY Temp.--------')\n",
    "for i in range(days):\n",
    "    validInput = False\n",
    "    while(not validInput):\n",
    "        tempStr = input('Please enter a valid Mid Day temp:')\n",
    "        tempFloat = float(tempStr)\n",
    "        if (tempFloat<minTempLimit or tempFloat > maxTempLimit):\n",
    "            print('Please enter a valid temp within range of ', minTempLimit, ' and ', maxTempLimit)\n",
    "            print('try again ....')\n",
    "        else:\n",
    "            validInput = True\n",
    "            dayTemp.append(tempFloat)\n",
    "\n",
    "print(' The day temperatures are: ', dayTemp)"
   ]
  },
  {
   "cell_type": "code",
   "execution_count": 75,
   "metadata": {},
   "outputs": [
    {
     "name": "stdout",
     "output_type": "stream",
     "text": [
      "-----------Input Night Temp.--------\n",
      "Please enter a valid Mid Night temp:-10\n",
      "Please enter a valid Mid Night temp:-100\n",
      "Please enter a valid temp within range of  -50  and  50\n",
      "try again ....\n",
      "Please enter a valid Mid Night temp:40\n",
      "Please enter a valid Mid Night temp:30\n",
      " The night temperatures are:  [-10.0, 40.0, 30.0]\n"
     ]
    }
   ],
   "source": [
    "print('-----------Input Night Temp.--------')\n",
    "for i in range(days):\n",
    "    validInput = False\n",
    "    while(not validInput):\n",
    "        tempStr = input('Please enter a valid Mid Night temp:')\n",
    "        tempFloat = float(tempStr)\n",
    "        if (tempFloat<minTempLimit or tempFloat > maxTempLimit):\n",
    "            print('Please enter a valid temp within range of ', minTempLimit, ' and ', maxTempLimit)\n",
    "            print('try again ....')\n",
    "        else:\n",
    "            validInput = True\n",
    "            nightTemp.append(tempFloat)\n",
    "\n",
    "print(' The night temperatures are: ', nightTemp)"
   ]
  },
  {
   "cell_type": "markdown",
   "metadata": {},
   "source": [
    "#####  Task 2"
   ]
  },
  {
   "cell_type": "code",
   "execution_count": 70,
   "metadata": {},
   "outputs": [],
   "source": [
    "def findAverage(myArray):\n",
    "    total = 0\n",
    "    for i in myArray:\n",
    "        total = total + i\n",
    "    return total/len(myArray)\n",
    "        "
   ]
  },
  {
   "cell_type": "markdown",
   "metadata": {},
   "source": [
    "###### Day temp average"
   ]
  },
  {
   "cell_type": "code",
   "execution_count": 71,
   "metadata": {},
   "outputs": [],
   "source": [
    "dayAvg = findAverage(dayTemp)"
   ]
  },
  {
   "cell_type": "code",
   "execution_count": 72,
   "metadata": {},
   "outputs": [
    {
     "name": "stdout",
     "output_type": "stream",
     "text": [
      " Day temperatures are:  [25.0, 15.0, 50.0]\n",
      "Day average is:  30.0\n"
     ]
    }
   ],
   "source": [
    "print(' Day temperatures are: ', dayTemp)\n",
    "print('Day average is: ', dayAvg)"
   ]
  },
  {
   "cell_type": "markdown",
   "metadata": {},
   "source": [
    "###### Night temp average"
   ]
  },
  {
   "cell_type": "code",
   "execution_count": 76,
   "metadata": {},
   "outputs": [],
   "source": [
    "nightAvg = findAverage(nightTemp)"
   ]
  },
  {
   "cell_type": "code",
   "execution_count": 74,
   "metadata": {},
   "outputs": [
    {
     "name": "stdout",
     "output_type": "stream",
     "text": [
      " Night temperatures are:  [25.0, 15.0, 50.0]\n",
      "Night average is:  30.0\n"
     ]
    }
   ],
   "source": [
    "print(' Night temperatures are: ', dayTemp)\n",
    "print('Night average is: ', dayAvg)"
   ]
  },
  {
   "cell_type": "markdown",
   "metadata": {},
   "source": [
    "#### Task 3"
   ]
  },
  {
   "cell_type": "code",
   "execution_count": 62,
   "metadata": {},
   "outputs": [],
   "source": [
    "def findMax(l):\n",
    "    maxTemp = -100\n",
    "    for i in range(len(l)):\n",
    "        if l[i]> maxTemp:\n",
    "            maxTemp = l[i]\n",
    "    return maxTemp"
   ]
  },
  {
   "cell_type": "code",
   "execution_count": 63,
   "metadata": {},
   "outputs": [],
   "source": [
    "def findMin(l):\n",
    "    minTemp = 100\n",
    "    for i in range(len(l)):\n",
    "        if l[i]< minTemp:\n",
    "            minTemp = l[i]\n",
    "    return minTemp"
   ]
  },
  {
   "cell_type": "code",
   "execution_count": 64,
   "metadata": {},
   "outputs": [
    {
     "name": "stdout",
     "output_type": "stream",
     "text": [
      "day temperatures are:  [2.0, 23.0, 21.0]\n",
      "max day temp. is:  23.0\n"
     ]
    }
   ],
   "source": [
    "### day max temperature \n",
    "dayMax = findMax(dayTemp)\n",
    "print('day temperatures are: ', dayTemp)\n",
    "print('max day temp. is: ', dayMax)"
   ]
  },
  {
   "cell_type": "code",
   "execution_count": 65,
   "metadata": {},
   "outputs": [
    {
     "name": "stdout",
     "output_type": "stream",
     "text": [
      "night temperatures are:  [-14.0, 33.0, 23.0]\n",
      "minimum night temp. is:  -14.0\n"
     ]
    }
   ],
   "source": [
    "### night min temperature \n",
    "nightMin = findMin(nightTemp)\n",
    "print('night temperatures are: ', nightTemp)\n",
    "print('minimum night temp. is: ', nightMin)"
   ]
  },
  {
   "cell_type": "code",
   "execution_count": null,
   "metadata": {},
   "outputs": [],
   "source": []
  }
 ],
 "metadata": {
  "kernelspec": {
   "display_name": "Python 3",
   "language": "python",
   "name": "python3"
  },
  "language_info": {
   "codemirror_mode": {
    "name": "ipython",
    "version": 3
   },
   "file_extension": ".py",
   "mimetype": "text/x-python",
   "name": "python",
   "nbconvert_exporter": "python",
   "pygments_lexer": "ipython3",
   "version": "3.6.8"
  }
 },
 "nbformat": 4,
 "nbformat_minor": 4
}
