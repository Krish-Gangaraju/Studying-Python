{
 "cells": [
  {
   "cell_type": "markdown",
   "metadata": {},
   "source": [
    "### Q1\n"
   ]
  },
  {
   "cell_type": "code",
   "execution_count": 3,
   "metadata": {},
   "outputs": [
    {
     "name": "stdout",
     "output_type": "stream",
     "text": [
      "Enter a number: 6\n",
      "0\n"
     ]
    }
   ],
   "source": [
    "limit = int(input(\"Enter a number: \"))\n",
    "for i in range (0,limit,7):\n",
    "    print(i)"
   ]
  },
  {
   "cell_type": "markdown",
   "metadata": {},
   "source": [
    "### Q2"
   ]
  },
  {
   "cell_type": "code",
   "execution_count": 14,
   "metadata": {},
   "outputs": [
    {
     "name": "stdout",
     "output_type": "stream",
     "text": [
      "6 5 11 22 99 "
     ]
    }
   ],
   "source": [
    "l = [1 , 6 , 4 , 5 , 8 , 11 , 34 , 22 , 67 , 99]\n",
    "for num in range (1,len(l),2):\n",
    "    print(l[num],end = \" \")"
   ]
  },
  {
   "cell_type": "markdown",
   "metadata": {},
   "source": [
    "### Q3"
   ]
  },
  {
   "cell_type": "code",
   "execution_count": 15,
   "metadata": {},
   "outputs": [
    {
     "name": "stdout",
     "output_type": "stream",
     "text": [
      "1 4 8 34 67 "
     ]
    }
   ],
   "source": [
    "l = [1 , 6 , 4 , 5 , 8 , 11 , 34 , 22 , 67 , 99]\n",
    "for num in range (0,len(l),2):\n",
    "    print(l[num],end = \" \")"
   ]
  },
  {
   "cell_type": "markdown",
   "metadata": {},
   "source": [
    "### Q4"
   ]
  },
  {
   "cell_type": "code",
   "execution_count": 18,
   "metadata": {},
   "outputs": [
    {
     "name": "stdout",
     "output_type": "stream",
     "text": [
      "4 11 67 "
     ]
    }
   ],
   "source": [
    "l = [1 , 6 , 4 , 5 , 8 , 11 , 34 , 22 , 67 , 99]\n",
    "for num in range (2,len(l),3):\n",
    "    print(l[num],end = \" \")"
   ]
  },
  {
   "cell_type": "markdown",
   "metadata": {},
   "source": [
    "### Q5"
   ]
  },
  {
   "cell_type": "code",
   "execution_count": 23,
   "metadata": {},
   "outputs": [
    {
     "name": "stdout",
     "output_type": "stream",
     "text": [
      "Enter a number: 10\n",
      "20\n"
     ]
    }
   ],
   "source": [
    "N = int(input('Enter a number: '))\n",
    "total = 0\n",
    "for i in range (0,N,2):\n",
    "    total = total + i\n",
    "print(total)"
   ]
  },
  {
   "cell_type": "markdown",
   "metadata": {},
   "source": [
    "### Q6"
   ]
  },
  {
   "cell_type": "code",
   "execution_count": 28,
   "metadata": {},
   "outputs": [
    {
     "name": "stdout",
     "output_type": "stream",
     "text": [
      "Enter a number: 10\n",
      "30\n"
     ]
    }
   ],
   "source": [
    "N = int(input('Enter a number: '))\n",
    "total = 0\n",
    "for i in range (0,N+1,2):\n",
    "    total = total + i\n",
    "print(total)"
   ]
  },
  {
   "cell_type": "markdown",
   "metadata": {},
   "source": [
    "### Q7"
   ]
  },
  {
   "cell_type": "code",
   "execution_count": 29,
   "metadata": {},
   "outputs": [
    {
     "name": "stdout",
     "output_type": "stream",
     "text": [
      "Enter a number: 10\n",
      "25\n"
     ]
    }
   ],
   "source": [
    "N = int(input('Enter a number: '))\n",
    "total = 0\n",
    "for i in range (1,N,2):\n",
    "    total = total + i\n",
    "print(total)"
   ]
  },
  {
   "cell_type": "markdown",
   "metadata": {},
   "source": [
    "### Q8"
   ]
  },
  {
   "cell_type": "code",
   "execution_count": 30,
   "metadata": {},
   "outputs": [
    {
     "name": "stdout",
     "output_type": "stream",
     "text": [
      "Enter a number: 11\n",
      "36\n"
     ]
    }
   ],
   "source": [
    "N = int(input('Enter a number: '))\n",
    "total = 0\n",
    "for i in range (1,N+1,2):\n",
    "    total = total + i\n",
    "print(total)"
   ]
  },
  {
   "cell_type": "markdown",
   "metadata": {},
   "source": [
    "### Q9"
   ]
  },
  {
   "cell_type": "code",
   "execution_count": 3,
   "metadata": {},
   "outputs": [
    {
     "name": "stdout",
     "output_type": "stream",
     "text": [
      "257\n",
      "25.7\n"
     ]
    }
   ],
   "source": [
    "l = [1 , 6 , 4 , 5 , 8 , 11 , 34 , 22 , 67 , 99]\n",
    "total = 0\n",
    "length = len(l)\n",
    "for i in range (0,len(l)):\n",
    "    total = total + l[i]\n",
    "print(total)\n",
    "print(total / length)\n",
    "\n",
    "    "
   ]
  },
  {
   "cell_type": "markdown",
   "metadata": {},
   "source": [
    "### Q10"
   ]
  },
  {
   "cell_type": "code",
   "execution_count": 9,
   "metadata": {},
   "outputs": [
    {
     "name": "stdout",
     "output_type": "stream",
     "text": [
      "6 5 11 22 99 = 143\n",
      "28.6\n"
     ]
    }
   ],
   "source": [
    "l = [1 , 6 , 4 , 5 , 8 , 11 , 34 , 22 , 67 , 99]\n",
    "total = 0\n",
    "for i in range (1,len(l),2):\n",
    "    total = total + l[i]\n",
    "    print(l[i], end = \" \")\n",
    "print(\"=\",total)\n",
    "print(total / 5)\n",
    "    "
   ]
  },
  {
   "cell_type": "markdown",
   "metadata": {},
   "source": [
    "### Q11"
   ]
  },
  {
   "cell_type": "code",
   "execution_count": 12,
   "metadata": {},
   "outputs": [
    {
     "name": "stdout",
     "output_type": "stream",
     "text": [
      "1 4 8 34 67 = 114\n",
      "22.8\n"
     ]
    }
   ],
   "source": [
    "l = [1 , 6 , 4 , 5 , 8 , 11 , 34 , 22 , 67 , 99]\n",
    "total = 0\n",
    "for i in range (0,len(l),2):\n",
    "    total = total + l[i]\n",
    "    print(l[i], end = \" \")\n",
    "print(\"=\",total)\n",
    "print(total / 5)\n",
    "    "
   ]
  },
  {
   "cell_type": "markdown",
   "metadata": {},
   "source": [
    "### Q12"
   ]
  },
  {
   "cell_type": "code",
   "execution_count": 13,
   "metadata": {},
   "outputs": [
    {
     "name": "stdout",
     "output_type": "stream",
     "text": [
      "99\n"
     ]
    }
   ],
   "source": [
    "l = [1 , 6 , 4 , 5 , 8 , 11 , 34 , 22 , 67 , 99]\n",
    "temp_max = -10000\n",
    "length = len(l)\n",
    "for i in range(0,length):\n",
    "    if (l[i] > temp_max):\n",
    "        temp_max = l[i]\n",
    "print (temp_max)"
   ]
  },
  {
   "cell_type": "markdown",
   "metadata": {},
   "source": [
    "### Q13"
   ]
  },
  {
   "cell_type": "code",
   "execution_count": 15,
   "metadata": {},
   "outputs": [
    {
     "name": "stdout",
     "output_type": "stream",
     "text": [
      "-1\n"
     ]
    }
   ],
   "source": [
    "l = [1 , 6 , 4 ,-1, 5 , 8 , 11 , 34 , 22 , 67 , 99]\n",
    "temp_min = 10000\n",
    "length = len(l)\n",
    "for i in range(0,length):\n",
    "    if (l[i] < temp_min):\n",
    "        temp_min = l[i]\n",
    "print (temp_min)"
   ]
  },
  {
   "cell_type": "markdown",
   "metadata": {},
   "source": []
  },
  {
   "cell_type": "code",
   "execution_count": 17,
   "metadata": {},
   "outputs": [
    {
     "name": "stdout",
     "output_type": "stream",
     "text": [
      "[1, 0, 0, 1, 1, 0, 1, 0, 0, 1, 1, 0, 0]\n"
     ]
    }
   ],
   "source": [
    "l = [1,16,4,-1, 5,8,11,34,64,99,67,88,2]\n",
    "ans = []\n",
    "length = len(l)\n",
    "for i in range (0,length):\n",
    "    num = l[i] % 2\n",
    "    ans.append(num)\n",
    "print(ans)\n",
    "    "
   ]
  },
  {
   "cell_type": "code",
   "execution_count": null,
   "metadata": {},
   "outputs": [],
   "source": []
  },
  {
   "cell_type": "code",
   "execution_count": null,
   "metadata": {},
   "outputs": [],
   "source": []
  }
 ],
 "metadata": {
  "kernelspec": {
   "display_name": "Python 3",
   "language": "python",
   "name": "python3"
  },
  "language_info": {
   "codemirror_mode": {
    "name": "ipython",
    "version": 3
   },
   "file_extension": ".py",
   "mimetype": "text/x-python",
   "name": "python",
   "nbconvert_exporter": "python",
   "pygments_lexer": "ipython3",
   "version": "3.6.8"
  }
 },
 "nbformat": 4,
 "nbformat_minor": 4
}
