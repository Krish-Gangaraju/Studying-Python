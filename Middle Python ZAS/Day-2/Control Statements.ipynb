{
 "cells": [
  {
   "cell_type": "markdown",
   "metadata": {},
   "source": [
    "# If and Nested If"
   ]
  },
  {
   "cell_type": "code",
   "execution_count": 3,
   "metadata": {},
   "outputs": [
    {
     "name": "stdout",
     "output_type": "stream",
     "text": [
      "20 c is the greatest\n"
     ]
    }
   ],
   "source": [
    "a = 10\n",
    "b = 5\n",
    "c = 20\n",
    "\n",
    "if (a > b):\n",
    "    if (a > c):\n",
    "        print(a,\"a is the greatest\")\n",
    "    else: \n",
    "        print(c,\"c is the greatest\")\n",
    "else:\n",
    "    if (b > c):\n",
    "        print(b,\"b is the greatest\")\n",
    "    else:\n",
    "        print(c,\"c is the greatest\")"
   ]
  },
  {
   "cell_type": "markdown",
   "metadata": {},
   "source": [
    "# Finding Max and Min with For loop\n",
    "\n"
   ]
  },
  {
   "cell_type": "code",
   "execution_count": 9,
   "metadata": {},
   "outputs": [
    {
     "name": "stdout",
     "output_type": "stream",
     "text": [
      "-4\n"
     ]
    }
   ],
   "source": [
    "mymin = 1000\n",
    "mymax = -1000\n",
    "a = [-4,6,0,9,2,4,-1,0,2]\n",
    "for i in range (len(a)):\n",
    "    if (a[i] < mymin):\n",
    "        mymin = a[i]\n",
    "print(mymin)"
   ]
  },
  {
   "cell_type": "code",
   "execution_count": 10,
   "metadata": {},
   "outputs": [
    {
     "name": "stdout",
     "output_type": "stream",
     "text": [
      "9\n"
     ]
    }
   ],
   "source": [
    "mymin = 1000\n",
    "mymax = -1000\n",
    "a = [-4,6,0,9,2,4,-1,0,2]\n",
    "for i in range (len(a)):\n",
    "    if (a[i] > mymax):\n",
    "        mymax = a[i]\n",
    "        \n",
    "print(mymax)"
   ]
  },
  {
   "cell_type": "code",
   "execution_count": null,
   "metadata": {},
   "outputs": [],
   "source": []
  }
 ],
 "metadata": {
  "kernelspec": {
   "display_name": "Python 3",
   "language": "python",
   "name": "python3"
  },
  "language_info": {
   "codemirror_mode": {
    "name": "ipython",
    "version": 3
   },
   "file_extension": ".py",
   "mimetype": "text/x-python",
   "name": "python",
   "nbconvert_exporter": "python",
   "pygments_lexer": "ipython3",
   "version": "3.6.8"
  }
 },
 "nbformat": 4,
 "nbformat_minor": 4
}
