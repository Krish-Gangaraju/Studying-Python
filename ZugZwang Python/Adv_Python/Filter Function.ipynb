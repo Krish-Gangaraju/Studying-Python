{
 "cells": [
  {
   "cell_type": "markdown",
   "metadata": {},
   "source": [
    "#### Without Filter"
   ]
  },
  {
   "cell_type": "code",
   "execution_count": 1,
   "metadata": {},
   "outputs": [
    {
     "name": "stdout",
     "output_type": "stream",
     "text": [
      "['a', 'i', 'a']\n"
     ]
    }
   ],
   "source": [
    "alpha = ['a','n','i','m','a','l','s']\n",
    "def vowels (list1):\n",
    "    vowel = ['a','e','i','o','u']\n",
    "    vows = []\n",
    "    for i in list1:\n",
    "        if (i in vowel):\n",
    "            vows.append(i)\n",
    "    return vows\n",
    "\n",
    "print (vowels(alpha))"
   ]
  },
  {
   "cell_type": "markdown",
   "metadata": {},
   "source": [
    "### With Filter"
   ]
  },
  {
   "cell_type": "code",
   "execution_count": 3,
   "metadata": {},
   "outputs": [
    {
     "name": "stdout",
     "output_type": "stream",
     "text": [
      "['a', 'i', 'a']\n"
     ]
    }
   ],
   "source": [
    "def check_vowel(alpha):\n",
    "    vowels = ['a','e','i','o','u']\n",
    "    if alpha in vowels:\n",
    "        return True\n",
    "    else:\n",
    "        return False\n",
    "    \n",
    "string = ['a','n','i','m','a','l','s']\n",
    "print(list(filter(check_vowel , string)))"
   ]
  },
  {
   "cell_type": "code",
   "execution_count": 5,
   "metadata": {},
   "outputs": [
    {
     "name": "stdout",
     "output_type": "stream",
     "text": [
      "['a', 'i', 'a']\n"
     ]
    }
   ],
   "source": [
    "vowels = ['a','e','i','o','u']\n",
    "check = lambda alpha : True if alpha in vowels else False\n",
    "\n",
    "string = ['a','n','i','m','a','l','s']\n",
    "print(list(filter(check , string)))"
   ]
  },
  {
   "cell_type": "code",
   "execution_count": 6,
   "metadata": {},
   "outputs": [],
   "source": [
    "# ------------------------------------------------------- #"
   ]
  },
  {
   "cell_type": "markdown",
   "metadata": {},
   "source": [
    "#### CHALLENGE 1"
   ]
  },
  {
   "cell_type": "code",
   "execution_count": 8,
   "metadata": {},
   "outputs": [
    {
     "name": "stdout",
     "output_type": "stream",
     "text": [
      "[10, 100]\n"
     ]
    }
   ],
   "source": [
    "# i) w/o filter\n",
    "def even (nums):\n",
    "    ans = []\n",
    "    for i in nums:\n",
    "        if (i % 2 == 0):\n",
    "            ans.append(i)\n",
    "    return ans\n",
    "\n",
    "num = [5, 9, 10, 21, 100, 109]\n",
    "print (even(num))"
   ]
  },
  {
   "cell_type": "code",
   "execution_count": 9,
   "metadata": {},
   "outputs": [
    {
     "name": "stdout",
     "output_type": "stream",
     "text": [
      "[10, 100]\n"
     ]
    }
   ],
   "source": [
    "# ii) filter w/o lambda\n",
    "def even (nums):\n",
    "    if (nums % 2 == 0):\n",
    "        return True\n",
    "    else:\n",
    "        return False\n",
    "\n",
    "num = [5, 9, 10, 21, 100, 109]\n",
    "print( list(filter(even , num)) )"
   ]
  },
  {
   "cell_type": "code",
   "execution_count": 10,
   "metadata": {},
   "outputs": [
    {
     "name": "stdout",
     "output_type": "stream",
     "text": [
      "[10, 100]\n"
     ]
    }
   ],
   "source": [
    "# iii) filter and lambda\n",
    "num = [5, 9, 10, 21, 100, 109]\n",
    "print( list(filter(lambda x : True if (x%2 == 0) else False , num)) )"
   ]
  },
  {
   "cell_type": "code",
   "execution_count": 11,
   "metadata": {},
   "outputs": [],
   "source": [
    "# ------------------------------------------------------- #"
   ]
  },
  {
   "cell_type": "markdown",
   "metadata": {},
   "source": [
    "#### CHALLENGE 2"
   ]
  },
  {
   "cell_type": "code",
   "execution_count": 12,
   "metadata": {},
   "outputs": [
    {
     "name": "stdout",
     "output_type": "stream",
     "text": [
      "[10, 100, 200]\n"
     ]
    }
   ],
   "source": [
    "# i) w/o filter\n",
    "def ten_mult (ten):\n",
    "    ans = []\n",
    "    for i in ten:\n",
    "        if (i % 10 == 0):\n",
    "            ans.append(i)\n",
    "    return ans\n",
    "\n",
    "num = [5, 9, 10, 21, 100, 200]\n",
    "print (ten_mult(num))"
   ]
  },
  {
   "cell_type": "code",
   "execution_count": 13,
   "metadata": {},
   "outputs": [
    {
     "name": "stdout",
     "output_type": "stream",
     "text": [
      "[10, 100, 200]\n"
     ]
    }
   ],
   "source": [
    "# ii) filter w/o lambda\n",
    "def ten_mult (ten):\n",
    "    if (ten % 10 == 0):\n",
    "        return True\n",
    "    else:\n",
    "        return False\n",
    "\n",
    "num = [5, 9, 10, 21, 100, 200]\n",
    "print( list(filter(ten_mult , num)) )"
   ]
  },
  {
   "cell_type": "code",
   "execution_count": 14,
   "metadata": {},
   "outputs": [
    {
     "name": "stdout",
     "output_type": "stream",
     "text": [
      "[10, 100, 200]\n"
     ]
    }
   ],
   "source": [
    "# iii) filter and lambda\n",
    "num = [5, 9, 10, 21, 100, 200]\n",
    "print( list(filter(lambda x : True if (x%2 == 0) else False , num)) )"
   ]
  },
  {
   "cell_type": "code",
   "execution_count": 15,
   "metadata": {},
   "outputs": [],
   "source": [
    "# ------------------------------------------------------- #"
   ]
  },
  {
   "cell_type": "markdown",
   "metadata": {},
   "source": [
    "#### CHALLENGE 3"
   ]
  },
  {
   "cell_type": "code",
   "execution_count": 19,
   "metadata": {},
   "outputs": [
    {
     "name": "stdout",
     "output_type": "stream",
     "text": [
      "[21, 100, 200]\n"
     ]
    }
   ],
   "source": [
    "# i) w/o filter\n",
    "def greater (num):\n",
    "    ans = []\n",
    "    for i in num:\n",
    "        if (i >= 18):\n",
    "            ans.append(i)\n",
    "    return ans\n",
    "\n",
    "num = [5, 9, 10, 21, 100, 200]\n",
    "print (greater(num))"
   ]
  },
  {
   "cell_type": "code",
   "execution_count": 20,
   "metadata": {},
   "outputs": [
    {
     "name": "stdout",
     "output_type": "stream",
     "text": [
      "[21, 100, 200]\n"
     ]
    }
   ],
   "source": [
    "# ii) filter w/o lambda\n",
    "def greater (num):\n",
    "    if (num >= 18):\n",
    "        return True\n",
    "    else:\n",
    "        return False\n",
    "\n",
    "num = [5, 9, 10, 21, 100, 200]\n",
    "print( list(filter(greater , num)) )"
   ]
  },
  {
   "cell_type": "code",
   "execution_count": 21,
   "metadata": {},
   "outputs": [
    {
     "name": "stdout",
     "output_type": "stream",
     "text": [
      "[21, 100, 200]\n"
     ]
    }
   ],
   "source": [
    "# iii) filter and lambda\n",
    "num = [5, 9, 10, 21, 100, 200]\n",
    "print( list(filter(lambda x : True if (x >= 18) else False , num)) )"
   ]
  },
  {
   "cell_type": "code",
   "execution_count": 22,
   "metadata": {},
   "outputs": [],
   "source": [
    "# ------------------------------------------------------- #"
   ]
  },
  {
   "cell_type": "markdown",
   "metadata": {},
   "source": [
    "#### CHALLENGE 4"
   ]
  },
  {
   "cell_type": "code",
   "execution_count": 26,
   "metadata": {},
   "outputs": [
    {
     "name": "stdout",
     "output_type": "stream",
     "text": [
      "['Sumit', 'Amitabh', 'Rajesh']\n"
     ]
    }
   ],
   "source": [
    "# i) w/o filter\n",
    "def chars (name):\n",
    "    ans = []\n",
    "    for i in name:\n",
    "        if (len(i) > 4):\n",
    "            ans.append(i)\n",
    "    return ans\n",
    "\n",
    "names = [\"Amit\", \"Sumit\", \"Amitabh\", \"Raj\", \"Ben\",\"Rajesh\"]\n",
    "print (chars(names))"
   ]
  },
  {
   "cell_type": "code",
   "execution_count": 27,
   "metadata": {},
   "outputs": [
    {
     "name": "stdout",
     "output_type": "stream",
     "text": [
      "['Sumit', 'Amitabh', 'Rajesh']\n"
     ]
    }
   ],
   "source": [
    "# ii) filter w/o lambda\n",
    "def chars (name):\n",
    "    if (len(name) > 4):\n",
    "        return True\n",
    "    else:\n",
    "        return False\n",
    "\n",
    "names = [\"Amit\", \"Sumit\", \"Amitabh\", \"Raj\", \"Ben\",\"Rajesh\"]\n",
    "print( list(filter(chars , names)) )"
   ]
  },
  {
   "cell_type": "code",
   "execution_count": 25,
   "metadata": {},
   "outputs": [
    {
     "name": "stdout",
     "output_type": "stream",
     "text": [
      "[21, 100, 200]\n"
     ]
    }
   ],
   "source": [
    "# iii) filter and lambda\n",
    "num = [5, 9, 10, 21, 100, 200]\n",
    "print( list(filter(lambda x : True if (x >= 18) else False , num)) )"
   ]
  },
  {
   "cell_type": "code",
   "execution_count": 28,
   "metadata": {},
   "outputs": [
    {
     "name": "stdout",
     "output_type": "stream",
     "text": [
      "['Sumit', 'Amitabh', 'Rajesh']\n"
     ]
    }
   ],
   "source": [
    "names = [\"Amit\", \"Sumit\", \"Amitabh\", \"Raj\", \"Ben\",\"Rajesh\"]\n",
    "print(list(filter(lambda x : True if (len(x) > 4) else False , names)))"
   ]
  },
  {
   "cell_type": "code",
   "execution_count": null,
   "metadata": {},
   "outputs": [],
   "source": [
    "#################################################################################"
   ]
  }
 ],
 "metadata": {
  "kernelspec": {
   "display_name": "Python 3",
   "language": "python",
   "name": "python3"
  },
  "language_info": {
   "codemirror_mode": {
    "name": "ipython",
    "version": 3
   },
   "file_extension": ".py",
   "mimetype": "text/x-python",
   "name": "python",
   "nbconvert_exporter": "python",
   "pygments_lexer": "ipython3",
   "version": "3.8.3"
  }
 },
 "nbformat": 4,
 "nbformat_minor": 4
}
