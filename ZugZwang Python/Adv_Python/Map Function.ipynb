{
 "cells": [
  {
   "cell_type": "markdown",
   "metadata": {},
   "source": [
    "#### Without map"
   ]
  },
  {
   "cell_type": "code",
   "execution_count": 2,
   "metadata": {},
   "outputs": [
    {
     "name": "stdout",
     "output_type": "stream",
     "text": [
      "[1, 16, 49, 81]\n"
     ]
    }
   ],
   "source": [
    "def sq (num):\n",
    "    return num ** 2\n",
    "\n",
    "nums = [1,4,7,9]\n",
    "ans = []\n",
    "for i in nums:\n",
    "    ans.append(sq(i))\n",
    "print(ans)"
   ]
  },
  {
   "cell_type": "markdown",
   "metadata": {},
   "source": [
    "### With Map"
   ]
  },
  {
   "cell_type": "code",
   "execution_count": 3,
   "metadata": {},
   "outputs": [
    {
     "name": "stdout",
     "output_type": "stream",
     "text": [
      "[1, 16, 49, 81]\n"
     ]
    }
   ],
   "source": [
    "def sq (num):\n",
    "    return num ** 2\n",
    "\n",
    "nums = [1,4,7,9]\n",
    "print (list(map(sq , nums)))"
   ]
  },
  {
   "cell_type": "code",
   "execution_count": 4,
   "metadata": {},
   "outputs": [
    {
     "name": "stdout",
     "output_type": "stream",
     "text": [
      "[1, 16, 49, 81]\n"
     ]
    }
   ],
   "source": [
    "nums = [1,4,7,9]\n",
    "sq = lambda x : x**2\n",
    "print (list(map(sq , nums)))"
   ]
  },
  {
   "cell_type": "code",
   "execution_count": 5,
   "metadata": {},
   "outputs": [],
   "source": [
    "# ------------------------------------------------------- #"
   ]
  },
  {
   "cell_type": "markdown",
   "metadata": {},
   "source": [
    "#### CHALLENGE 1"
   ]
  },
  {
   "cell_type": "code",
   "execution_count": 14,
   "metadata": {},
   "outputs": [
    {
     "name": "stdout",
     "output_type": "stream",
     "text": [
      "[2.5, 4.5, 5.0, 10.5, 50.0, 54.5]\n"
     ]
    }
   ],
   "source": [
    "# i) w/o map\n",
    "def half (nums):\n",
    "    ans = []\n",
    "    for i in nums:\n",
    "        ans.append (i/2)\n",
    "    return ans\n",
    "\n",
    "seq = [5, 9, 10, 21, 100, 109]\n",
    "print (half(seq))"
   ]
  },
  {
   "cell_type": "code",
   "execution_count": 23,
   "metadata": {},
   "outputs": [
    {
     "name": "stdout",
     "output_type": "stream",
     "text": [
      "[2.5, 4.5, 5.0, 10.5, 50.0, 54.5]\n"
     ]
    }
   ],
   "source": [
    "# ii) map w/o lambda\n",
    "def half (num):\n",
    "    return num/2\n",
    "\n",
    "seq = [5, 9, 10, 21, 100, 109]\n",
    "print (list(map(half , seq)))"
   ]
  },
  {
   "cell_type": "code",
   "execution_count": 18,
   "metadata": {},
   "outputs": [
    {
     "name": "stdout",
     "output_type": "stream",
     "text": [
      "[2.5, 4.5, 5.0, 10.5, 50.0, 54.5]\n"
     ]
    }
   ],
   "source": [
    "# iii) map with lambda\n",
    "seq = [5, 9, 10, 21, 100, 109]\n",
    "print( list(map(lambda x : x/2 , seq)) )"
   ]
  },
  {
   "cell_type": "code",
   "execution_count": 20,
   "metadata": {},
   "outputs": [],
   "source": [
    "# ------------------------------------------------------- #"
   ]
  },
  {
   "cell_type": "markdown",
   "metadata": {},
   "source": [
    "#### CHALLENGE 2"
   ]
  },
  {
   "cell_type": "code",
   "execution_count": 24,
   "metadata": {},
   "outputs": [
    {
     "name": "stdout",
     "output_type": "stream",
     "text": [
      "[3, 3, 6, 6, 10]\n"
     ]
    }
   ],
   "source": [
    "# i) w/o map\n",
    "def length (animals):\n",
    "    ans = []\n",
    "    for i in animals:\n",
    "        ans.append (len(i))\n",
    "    return ans\n",
    "\n",
    "animals = ['dog', 'cat', 'parrot', 'rabbit','rhinoceros']\n",
    "print (length(animals))"
   ]
  },
  {
   "cell_type": "code",
   "execution_count": 25,
   "metadata": {},
   "outputs": [
    {
     "name": "stdout",
     "output_type": "stream",
     "text": [
      "[3, 3, 6, 6, 10]\n"
     ]
    }
   ],
   "source": [
    "# ii) map w/o lambda\n",
    "def length (animal):\n",
    "    return len(animal)\n",
    "\n",
    "animals = ['dog', 'cat', 'parrot', 'rabbit','rhinoceros']\n",
    "print (list(map(length , animals)))"
   ]
  },
  {
   "cell_type": "code",
   "execution_count": 26,
   "metadata": {},
   "outputs": [
    {
     "name": "stdout",
     "output_type": "stream",
     "text": [
      "[3, 3, 6, 6, 10]\n"
     ]
    }
   ],
   "source": [
    "# iii) map with lambda\n",
    "animals = ['dog', 'cat', 'parrot', 'rabbit','rhinoceros']\n",
    "print( list(map(lambda x : len(x) , animals)) )"
   ]
  },
  {
   "cell_type": "code",
   "execution_count": 27,
   "metadata": {},
   "outputs": [],
   "source": [
    "# ------------------------------------------------------- #"
   ]
  },
  {
   "cell_type": "markdown",
   "metadata": {},
   "source": [
    "#### CHALLENGE 3"
   ]
  },
  {
   "cell_type": "code",
   "execution_count": 28,
   "metadata": {},
   "outputs": [
    {
     "name": "stdout",
     "output_type": "stream",
     "text": [
      "[<class 'str'>, <class 'int'>, <class 'str'>, <class 'list'>, <class 'tuple'>, <class 'dict'>]\n"
     ]
    }
   ],
   "source": [
    "# i) w/o map\n",
    "def dtype (objects):\n",
    "    ans = []\n",
    "    for i in objects:\n",
    "        ans.append (type(i))\n",
    "    return ans\n",
    "\n",
    "seq = ['dog' , 1 , \"Hundred\" , [2,3,4] , (2,3,4) , {\"name\":\"Zugzwang\"}]\n",
    "print (dtype(seq))"
   ]
  },
  {
   "cell_type": "code",
   "execution_count": 29,
   "metadata": {},
   "outputs": [
    {
     "name": "stdout",
     "output_type": "stream",
     "text": [
      "[<class 'str'>, <class 'int'>, <class 'str'>, <class 'list'>, <class 'tuple'>, <class 'dict'>]\n"
     ]
    }
   ],
   "source": [
    "# ii) map w/o lambda\n",
    "def dtype (objects):\n",
    "    return type(objects)\n",
    "\n",
    "seq = ['dog' , 1 , \"Hundred\" , [2,3,4] , (2,3,4) , {\"name\":\"Zugzwang\"}]\n",
    "print (list(map(dtype , seq)))"
   ]
  },
  {
   "cell_type": "code",
   "execution_count": 41,
   "metadata": {},
   "outputs": [
    {
     "name": "stdout",
     "output_type": "stream",
     "text": [
      "[<class 'str'>, <class 'int'>, <class 'str'>, <class 'list'>, <class 'tuple'>, <class 'dict'>]\n"
     ]
    }
   ],
   "source": [
    "# iii) map with lambda\n",
    "seq = ['dog' , 1 , \"Hundred\" , [2,3,4] , (2,3,4) , {\"name\":\"Zugzwang\"}]\n",
    "print( list(map(lambda x : type(x) , seq)) )"
   ]
  },
  {
   "cell_type": "code",
   "execution_count": 42,
   "metadata": {},
   "outputs": [],
   "source": [
    "# ------------------------------------------------------- #"
   ]
  },
  {
   "cell_type": "markdown",
   "metadata": {},
   "source": [
    "#### CHALLENGE 4"
   ]
  },
  {
   "cell_type": "code",
   "execution_count": 34,
   "metadata": {},
   "outputs": [
    {
     "name": "stdout",
     "output_type": "stream",
     "text": [
      "[3.14, 12.57, 28.27, 50.27, 78.54]\n"
     ]
    }
   ],
   "source": [
    "from math import pi\n",
    "# i) w/o map\n",
    "def c_area (radius):\n",
    "    ans = []\n",
    "    for i in radius:\n",
    "        area = pi * i * i\n",
    "        ans.append(round(area,2))\n",
    "    return ans\n",
    "\n",
    "r = [1,2,3,4,5]\n",
    "print (c_area(r))"
   ]
  },
  {
   "cell_type": "code",
   "execution_count": 37,
   "metadata": {},
   "outputs": [
    {
     "name": "stdout",
     "output_type": "stream",
     "text": [
      "[3.14, 12.57, 28.27, 50.27, 78.54]\n"
     ]
    }
   ],
   "source": [
    "# ii) map w/o lambda\n",
    "def c_area (radius):\n",
    "    area = pi * radius * radius\n",
    "    return round(area,2)\n",
    "\n",
    "r = [1,2,3,4,5]\n",
    "print (list(map(c_area , r)))"
   ]
  },
  {
   "cell_type": "code",
   "execution_count": 40,
   "metadata": {},
   "outputs": [
    {
     "name": "stdout",
     "output_type": "stream",
     "text": [
      "[3.14, 12.57, 28.27, 50.27, 78.54]\n"
     ]
    }
   ],
   "source": [
    "# iii) map with lambda\n",
    "r = [1,2,3,4,5]\n",
    "c_area = lambda x : round (pi * x * x,2)\n",
    "print( list(map(c_area , r)))"
   ]
  },
  {
   "cell_type": "code",
   "execution_count": 43,
   "metadata": {},
   "outputs": [],
   "source": [
    "# ------------------------------------------------------- #"
   ]
  },
  {
   "cell_type": "markdown",
   "metadata": {},
   "source": [
    "#### CHALLENGE 5"
   ]
  },
  {
   "cell_type": "code",
   "execution_count": 47,
   "metadata": {},
   "outputs": [
    {
     "name": "stdout",
     "output_type": "stream",
     "text": [
      "[6, 120, 3, 18]\n"
     ]
    }
   ],
   "source": [
    "# i) w/o map\n",
    "def cuboid (lists):\n",
    "    ans = []\n",
    "    for i in lists:\n",
    "        ans.append(i[0] * i[1] * i[2])\n",
    "    return ans\n",
    "\n",
    "dimensions = [[1,2,3],[4,5,6],[3,1,1],[9,1,2]]\n",
    "print (cuboid(dimensions))"
   ]
  },
  {
   "cell_type": "code",
   "execution_count": 50,
   "metadata": {},
   "outputs": [
    {
     "name": "stdout",
     "output_type": "stream",
     "text": [
      "[6, 120, 3, 18]\n"
     ]
    }
   ],
   "source": [
    "# ii) map w/o lambda\n",
    "def cuboid (d):\n",
    "    return (d[0] * d[1] * d[2])\n",
    "\n",
    "dimensions = [[1,2,3],[4,5,6],[3,1,1],[9,1,2]]\n",
    "print (list(map(cuboid, dimensions)))"
   ]
  },
  {
   "cell_type": "code",
   "execution_count": 58,
   "metadata": {},
   "outputs": [
    {
     "name": "stdout",
     "output_type": "stream",
     "text": [
      "[6, 120, 3, 18]\n"
     ]
    }
   ],
   "source": [
    "# iii) map with lambda\n",
    "cuboid = lambda x : x[0] * x[1] * x[2]\n",
    "dimensions = [[1,2,3],[4,5,6],[3,1,1],[9,1,2]]\n",
    "print (list(map(cuboid, dimensions)))"
   ]
  },
  {
   "cell_type": "code",
   "execution_count": 52,
   "metadata": {},
   "outputs": [],
   "source": [
    "# ------------------------------------------------------- #"
   ]
  },
  {
   "cell_type": "markdown",
   "metadata": {},
   "source": [
    "#### CHALLENGE 6"
   ]
  },
  {
   "cell_type": "code",
   "execution_count": 55,
   "metadata": {},
   "outputs": [
    {
     "name": "stdout",
     "output_type": "stream",
     "text": [
      "[9, 6, 9]\n"
     ]
    }
   ],
   "source": [
    "# i) w/o map\n",
    "def sumlist (list1 , list2):\n",
    "    ans = []\n",
    "    if (len(list1) < len(list2)):\n",
    "        for i in range (len(list1)):\n",
    "            ans.append (list1[i] + list2[i])\n",
    "        return ans\n",
    "    else:\n",
    "        for i in range (len(list2)):\n",
    "            ans.append (list1[i] + list2[i])\n",
    "        return ans\n",
    "\n",
    "list1 = [5,3,5,9,10,7]\n",
    "list2 = [4,3,4]\n",
    "print (sumlist(list1 , list2))"
   ]
  },
  {
   "cell_type": "code",
   "execution_count": 57,
   "metadata": {},
   "outputs": [
    {
     "name": "stdout",
     "output_type": "stream",
     "text": [
      "[9, 6, 9]\n"
     ]
    }
   ],
   "source": [
    "# ii) map w/o lambda\n",
    "def sumlist (n_1 , n_2):\n",
    "    return n_1 + n_2\n",
    "        \n",
    "list1 = [5,3,5,9,10,7]\n",
    "list2 = [4,3,4]\n",
    "print( list(map(sumlist , list1 , list2 )) )"
   ]
  },
  {
   "cell_type": "code",
   "execution_count": 59,
   "metadata": {},
   "outputs": [
    {
     "name": "stdout",
     "output_type": "stream",
     "text": [
      "[9, 6, 9]\n"
     ]
    }
   ],
   "source": [
    "# iii) map with lambda\n",
    "list1 = [5,3,5,9,10,7]\n",
    "list2 = [4,3,4]\n",
    "print( list(map(lambda x,y : x+y , list1 , list2 )) )"
   ]
  },
  {
   "cell_type": "code",
   "execution_count": 61,
   "metadata": {},
   "outputs": [],
   "source": [
    "# ------------------------------------------------------- #"
   ]
  },
  {
   "cell_type": "markdown",
   "metadata": {},
   "source": [
    "#### CHALLENGE 7"
   ]
  },
  {
   "cell_type": "code",
   "execution_count": 63,
   "metadata": {},
   "outputs": [
    {
     "name": "stdout",
     "output_type": "stream",
     "text": [
      "[1, 8, 25, 256]\n"
     ]
    }
   ],
   "source": [
    "# ii) map w/o lambda\n",
    "def sqlist (n_1 , n_2):\n",
    "    return n_1 ** n_2\n",
    "        \n",
    "list1 = [1,2,5,4]\n",
    "list2 = [10,3,2,4]\n",
    "print( list(map(sqlist , list1 , list2 )) )"
   ]
  },
  {
   "cell_type": "code",
   "execution_count": 65,
   "metadata": {},
   "outputs": [
    {
     "name": "stdout",
     "output_type": "stream",
     "text": [
      "[1, 8, 25, 256]\n"
     ]
    }
   ],
   "source": [
    "# iii) map with lambda\n",
    "list1 = [1,2,5,4]\n",
    "list2 = [10,3,2,4]\n",
    "print( list(map(lambda x,y : x**y , list1 , list2 )) )"
   ]
  },
  {
   "cell_type": "code",
   "execution_count": 66,
   "metadata": {},
   "outputs": [],
   "source": [
    "# ------------------------------------------------------- #"
   ]
  },
  {
   "cell_type": "code",
   "execution_count": 60,
   "metadata": {},
   "outputs": [],
   "source": []
  }
 ],
 "metadata": {
  "kernelspec": {
   "display_name": "Python 3",
   "language": "python",
   "name": "python3"
  },
  "language_info": {
   "codemirror_mode": {
    "name": "ipython",
    "version": 3
   },
   "file_extension": ".py",
   "mimetype": "text/x-python",
   "name": "python",
   "nbconvert_exporter": "python",
   "pygments_lexer": "ipython3",
   "version": "3.8.3"
  }
 },
 "nbformat": 4,
 "nbformat_minor": 4
}
