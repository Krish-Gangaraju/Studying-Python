{
 "cells": [
  {
   "cell_type": "markdown",
   "metadata": {},
   "source": [
    "### Variable arguments     * = sequence unpacking operator"
   ]
  },
  {
   "cell_type": "code",
   "execution_count": 5,
   "metadata": {},
   "outputs": [
    {
     "name": "stdout",
     "output_type": "stream",
     "text": [
      "500\n",
      "1500\n",
      "6500\n"
     ]
    }
   ],
   "source": [
    "def sum(a,b,*args):\n",
    "    result = a\n",
    "    for i in args:\n",
    "        result += i\n",
    "        \n",
    "    return result*b\n",
    "\n",
    "print(sum(5,100))\n",
    "print(sum(5,100,10))\n",
    "print(sum(5,100,10,20,30))"
   ]
  },
  {
   "cell_type": "markdown",
   "metadata": {},
   "source": [
    "### kwargs (keyword arguments)"
   ]
  },
  {
   "cell_type": "code",
   "execution_count": 6,
   "metadata": {},
   "outputs": [],
   "source": [
    "def describe(name,standard,school,subject,city,country):\n",
    "    print(\"Name is {}. Student is in standard {} in {}. His fav subject is {}. Belongs to {}, {}\"\\\n",
    "          .format(name,standard,school,subject,city,country))"
   ]
  },
  {
   "cell_type": "markdown",
   "metadata": {},
   "source": [
    "### with keyword arguments no need to bother about position of argument"
   ]
  },
  {
   "cell_type": "code",
   "execution_count": 7,
   "metadata": {},
   "outputs": [
    {
     "name": "stdout",
     "output_type": "stream",
     "text": [
      "Name is Sachin. Student is in standard 10 in DPS. His fav subject is ML. Belongs to Bangalore, India\n",
      "Name is Maria. Student is in standard 12 in GreenWood. His fav subject is Python. Belongs to Bangalore, India\n"
     ]
    }
   ],
   "source": [
    "describe(standard=\"10\", name=\"Sachin\",subject=\"ML\",school=\"DPS\",city=\"Bangalore\",country=\"India\")\n",
    "describe(country=\"India\",standard=\"12\", name=\"Maria\",city=\"Bangalore\",school=\"GreenWood\",subject=\"Python\")"
   ]
  },
  {
   "cell_type": "markdown",
   "metadata": {},
   "source": [
    "### Default arguments"
   ]
  },
  {
   "cell_type": "code",
   "execution_count": 21,
   "metadata": {},
   "outputs": [],
   "source": [
    "def describe(name,standard,school,subject,city=\"Bangalore\",country=\"India\"):\n",
    "    print(\"Name is {}. Student is in standard {} in {}. His fav subject is {}. Belongs to {}, {}\"\\\n",
    "          .format(name,standard,school,subject,city,country))"
   ]
  },
  {
   "cell_type": "markdown",
   "metadata": {},
   "source": [
    "###  for  \"city\" and \"country\" default arguments are taken if not supplied"
   ]
  },
  {
   "cell_type": "code",
   "execution_count": 22,
   "metadata": {},
   "outputs": [
    {
     "name": "stdout",
     "output_type": "stream",
     "text": [
      "Name is Sachin. Student is in standard 10 in DPS. His fav subject is ML. Belongs to Bangalore, India\n"
     ]
    }
   ],
   "source": [
    "describe(standard=\"10\", name=\"Sachin\",subject=\"ML\",school=\"DPS\")"
   ]
  },
  {
   "cell_type": "markdown",
   "metadata": {},
   "source": [
    "###  default \"city\" and \"country\" will be overriden if supplied by function call"
   ]
  },
  {
   "cell_type": "code",
   "execution_count": 13,
   "metadata": {},
   "outputs": [
    {
     "name": "stdout",
     "output_type": "stream",
     "text": [
      "Name is Maria. Student is in standard 12 in GreenWood. His fav subject is Python. Belongs to Dubai, UAE\n"
     ]
    }
   ],
   "source": [
    "describe(country=\"UAE\",standard=\"12\", name=\"Maria\",city=\"Dubai\",school=\"GreenWood\",subject=\"Python\")"
   ]
  },
  {
   "cell_type": "markdown",
   "metadata": {},
   "source": [
    "### variable  keyword arguments :  ** mapping unpacking operator"
   ]
  },
  {
   "cell_type": "code",
   "execution_count": 18,
   "metadata": {},
   "outputs": [
    {
     "name": "stdout",
     "output_type": "stream",
     "text": [
      "Key = name, value =Raj\n",
      "dict_items([('name', 'Raj')])\n",
      "\n",
      "#######\n",
      "Key = name, value =Raj\n",
      "Key = section, value =B\n",
      "dict_items([('name', 'Raj'), ('section', 'B')])\n",
      "\n",
      "#######\n",
      "Key = name, value =Raj\n",
      "Key = section, value =B\n",
      "Key = country, value =UAE\n",
      "dict_items([('name', 'Raj'), ('section', 'B'), ('country', 'UAE')])\n",
      "\n",
      "#######\n",
      "Key = name, value =Raj\n",
      "Key = section, value =B\n",
      "Key = country, value =UAE\n",
      "Key = subject, value =Maths\n",
      "dict_items([('name', 'Raj'), ('section', 'B'), ('country', 'UAE'), ('subject', 'Maths')])\n",
      "\n",
      "#######\n"
     ]
    }
   ],
   "source": [
    "def new_describe(**kwargs):\n",
    "    for k,v in kwargs.items():\n",
    "        print(\"Key = {}, value ={}\".format(k,v))\n",
    "    print(kwargs.items())\n",
    "    print()\n",
    "    print(\"#######\")\n",
    "\n",
    "new_describe(name=\"Raj\")\n",
    "new_describe(name=\"Raj\",section=\"B\")\n",
    "new_describe(name=\"Raj\",section=\"B\",country=\"UAE\")\n",
    "new_describe(name=\"Raj\",section=\"B\",country=\"UAE\",subject=\"Maths\")"
   ]
  },
  {
   "cell_type": "code",
   "execution_count": null,
   "metadata": {},
   "outputs": [],
   "source": []
  },
  {
   "cell_type": "code",
   "execution_count": null,
   "metadata": {},
   "outputs": [],
   "source": []
  }
 ],
 "metadata": {
  "kernelspec": {
   "display_name": "Python 3",
   "language": "python",
   "name": "python3"
  },
  "language_info": {
   "codemirror_mode": {
    "name": "ipython",
    "version": 3
   },
   "file_extension": ".py",
   "mimetype": "text/x-python",
   "name": "python",
   "nbconvert_exporter": "python",
   "pygments_lexer": "ipython3",
   "version": "3.8.3"
  }
 },
 "nbformat": 4,
 "nbformat_minor": 4
}
