{
 "cells": [
  {
   "cell_type": "code",
   "execution_count": 1,
   "metadata": {},
   "outputs": [],
   "source": [
    "import random"
   ]
  },
  {
   "cell_type": "code",
   "execution_count": null,
   "metadata": {},
   "outputs": [],
   "source": [
    "number = random.randint(1,100)\n",
    "attempts = 1\n",
    "correct = False\n",
    "\n",
    "while (correct == False):\n",
    "    guess = int(input(\"Guess a number from 1 to 100: \"))\n",
    "    if (guess == number):\n",
    "        print(\"Well done you got it in\", attempts, \"tries\")\n",
    "        correct = True\n",
    "        \n",
    "    elif (guess > number):\n",
    "        print(\"Your guess was too high... Try a lower number\")\n",
    "        attempts += 1\n",
    "        \n",
    "    elif (guess < number):\n",
    "        print(\"Your guess was too low... Try a higher number\")\n",
    "        attempts += 1"
   ]
  },
  {
   "cell_type": "code",
   "execution_count": null,
   "metadata": {},
   "outputs": [],
   "source": []
  }
 ],
 "metadata": {
  "kernelspec": {
   "display_name": "Python 3",
   "language": "python",
   "name": "python3"
  },
  "language_info": {
   "codemirror_mode": {
    "name": "ipython",
    "version": 3
   },
   "file_extension": ".py",
   "mimetype": "text/x-python",
   "name": "python",
   "nbconvert_exporter": "python",
   "pygments_lexer": "ipython3",
   "version": "3.8.3"
  }
 },
 "nbformat": 4,
 "nbformat_minor": 4
}
